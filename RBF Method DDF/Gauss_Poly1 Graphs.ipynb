{
 "cells": [
  {
   "cell_type": "code",
   "execution_count": 1,
   "metadata": {},
   "outputs": [],
   "source": [
    "import numpy as np\n",
    "import matplotlib.pyplot as plt\n",
    "from scipy.integrate import odeint\n",
    "from Gaus_Poly1_DDF import *\n",
    "import time"
   ]
  },
  {
   "cell_type": "code",
   "execution_count": 13,
   "metadata": {},
   "outputs": [],
   "source": [
    "XData = \n",
    "NoCenters = 500\n",
    "Length = 10000\n",
    "\n",
    "\n",
    "start_time = time.time()\n",
    "DDF = GaussPoly1Mat()\n",
    "Center = DDF.KmeanCenter(XData,NoCenters,Length)\n",
    "np.save('Center_name_500c_10k',Center)\n",
    "print(\"--- %s seconds ---\" % (time.time() - start_time))"
   ]
  },
  {
   "cell_type": "code",
   "execution_count": 12,
   "metadata": {
    "scrolled": false
   },
   "outputs": [],
   "source": [
    "PredLength = 10000\n",
    "beta = 0.01104738296670726\n",
    "R = 0.010650809436877413\n",
    "D = 3\n",
    "\n",
    "start_time = time.time()\n",
    "Funky = DDF.FuncApproxF(XData,Length,Center,beta,R,D)\n",
    "Pred = DDF.PredictIntoTheFuture(Funky,PredLength,DDF.FinalX)\n",
    "print(\"--- %s seconds ---\" % (time.time() - start_time))"
   ]
  },
  {
   "cell_type": "code",
   "execution_count": 6,
   "metadata": {},
   "outputs": [],
   "source": [
    "Lyap_large = \n",
    "maxx = PredLength\n",
    "X = np.arange(0,maxx*0.002*Lyap_large,0.002*Lyap_large)"
   ]
  },
  {
   "cell_type": "code",
   "execution_count": 11,
   "metadata": {},
   "outputs": [],
   "source": [
    "print(beta)\n",
    "print(R)\n",
    "plt.figure(figsize=(20,10))\n",
    "plt.plot(X,XData[0,Length:Length+PredLength],color = 'black',label = 'ODEINT Generated Data')\n",
    "plt.plot(X,Pred[0],color = 'r',label = 'DDF Data')\n",
    "plt.xlabel('Lyapunov Time (Divergence at LT = ??)',fontsize=20)\n",
    "plt.ylabel('(arb units)',fontsize=20)\n",
    "plt.legend(fontsize=20)\n",
    "plt.title('',fontsize=20)\n",
    "#plt.savefig('Colpitts Gauss RBF Method')\n",
    "plt.show()"
   ]
  },
  {
   "cell_type": "code",
   "execution_count": 10,
   "metadata": {
    "scrolled": true
   },
   "outputs": [],
   "source": [
    "for i in range(15):\n",
    "    for j in range(15):\n",
    "        PredLength = 10000\n",
    "        beta = 10**(-12+i)\n",
    "        R = 10**(-12+j)\n",
    "        D = 3\n",
    "\n",
    "        start_time = time.time()\n",
    "        Funky = DDF.FuncApproxF(XData,Length,Center,beta,R,D)\n",
    "        Pred = DDF.PredictIntoTheFuture(Funky,PredLength,DDF.FinalX)\n",
    "        print(\"--- %s seconds ---\" % (time.time() - start_time))\n",
    "        \n",
    "\n",
    "        plt.figure(figsize=(20,10))\n",
    "        plt.plot(X,XData[0,Length:Length+PredLength],color = 'black',label = 'ODEINT Generated Data')\n",
    "        plt.plot(X,Pred[0],color = 'r',label = 'DDF Data')\n",
    "        plt.xlabel('Lyapunov Time (Divergence at LT = ??)',fontsize=20)\n",
    "        plt.ylabel('X Dimension of L63 (arb units)',fontsize=20)\n",
    "        plt.legend(fontsize=20)\n",
    "        plt.title('Lorenz 1963 X Dimension with Taylor Method DDF Foreacst',fontsize=20)\n",
    "        plt.savefig(str(i)+' and '+str(j))\n",
    "        plt.show()"
   ]
  },
  {
   "cell_type": "code",
   "execution_count": null,
   "metadata": {},
   "outputs": [],
   "source": []
  }
 ],
 "metadata": {
  "kernelspec": {
   "display_name": "Python 3",
   "language": "python",
   "name": "python3"
  },
  "language_info": {
   "codemirror_mode": {
    "name": "ipython",
    "version": 3
   },
   "file_extension": ".py",
   "mimetype": "text/x-python",
   "name": "python",
   "nbconvert_exporter": "python",
   "pygments_lexer": "ipython3",
   "version": "3.8.5"
  }
 },
 "nbformat": 4,
 "nbformat_minor": 4
}
